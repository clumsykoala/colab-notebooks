{
  "nbformat": 4,
  "nbformat_minor": 0,
  "metadata": {
    "colab": {
      "provenance": []
    },
    "kernelspec": {
      "name": "python3",
      "display_name": "Python 3"
    },
    "language_info": {
      "name": "python"
    }
  },
  "cells": [
    {
      "cell_type": "code",
      "source": [
        "#@title __Mount Google Drive__\n",
        "from google.colab import drive\n",
        "drive.mount('/content/drive')"
      ],
      "metadata": {
        "id": "7MuIE9geHHdb",
        "cellView": "form"
      },
      "execution_count": null,
      "outputs": []
    },
    {
      "cell_type": "markdown",
      "source": [
        "##__Navigate__\n"
      ],
      "metadata": {
        "id": "uP4iuiY5HxUd"
      }
    },
    {
      "cell_type": "code",
      "source": [
        "pwd"
      ],
      "metadata": {
        "id": "TNSb5wgvHzFU"
      },
      "execution_count": null,
      "outputs": []
    },
    {
      "cell_type": "code",
      "source": [
        "cd"
      ],
      "metadata": {
        "id": "MIPR-uL6H9Am"
      },
      "execution_count": null,
      "outputs": []
    },
    {
      "cell_type": "code",
      "source": [
        "ls"
      ],
      "metadata": {
        "id": "tZM42wIgH9yE"
      },
      "execution_count": null,
      "outputs": []
    },
    {
      "cell_type": "code",
      "source": [
        "# @title __size__\n",
        "# Take input for the folder path\n",
        "folder_path = \"\" #@param {type:\"string\"}\n",
        "\n",
        "# Run the 'du' command using '!' to execute shell commands in Colab\n",
        "!du -h \"$folder_path\"\n"
      ],
      "metadata": {
        "id": "u6cDNB4cLhqF",
        "cellView": "form"
      },
      "execution_count": null,
      "outputs": []
    },
    {
      "cell_type": "code",
      "source": [
        "# @title __Copy__\n",
        "# Take input for the 'Target' and 'Destination' paths\n",
        "target_path = \"\" #@param {type:\"string\"}\n",
        "destination_path = \"\" #@param {type:\"string\"}\n",
        "\n",
        "# Run the 'cp' command using '!' to execute shell commands in Colab\n",
        "!sudo cp -vr \"$target_path\" \"$destination_path\"\n"
      ],
      "metadata": {
        "id": "ezWFGJiBQZrf"
      },
      "execution_count": null,
      "outputs": []
    },
    {
      "cell_type": "code",
      "source": [
        "# @title __move__\n",
        "# Take input for the 'Target' and 'Destination' paths\n",
        "target_path = \"\" #@param {type:\"string\"}\n",
        "destination_path = \"\" #@param {type:\"string\"}\n",
        "\n",
        "# Run the 'mv' command using '!' to execute shell commands in Colab\n",
        "!sudo mv \"$target_path\" \"$destination_path\"\n"
      ],
      "metadata": {
        "id": "CYzjbbjeI0T3",
        "cellView": "form"
      },
      "execution_count": null,
      "outputs": []
    },
    {
      "cell_type": "markdown",
      "source": [
        "##__Zip/Rar__"
      ],
      "metadata": {
        "id": "tKNKcEwGJQZ4"
      }
    },
    {
      "cell_type": "code",
      "source": [
        "# @title __zip__\n",
        "# Take input for the output file name, directory path, and the output path\n",
        "output_file_name = \"\" #@param {type:\"string\"}\n",
        "directory_path = \"\" #@param {type:\"string\"}\n",
        "output_path = \"\" #@param {type:\"string\"}\n",
        "\n",
        "# Run the 'zip' command using '!' to execute shell commands in Colab\n",
        "!zip -r -0 \"{output_path}/{output_file_name}.zip\" \"$directory_path\"\n"
      ],
      "metadata": {
        "id": "rmiAUQoRJX8C",
        "cellView": "form"
      },
      "execution_count": null,
      "outputs": []
    },
    {
      "cell_type": "markdown",
      "source": [
        "###__rar__"
      ],
      "metadata": {
        "id": "KtY7bYQnTDM5"
      }
    },
    {
      "cell_type": "code",
      "source": [
        "#@title __initialize__\n",
        "# <= Click this cell to rar the folder\n",
        "\n",
        "!apt-get install rar"
      ],
      "metadata": {
        "id": "3uvroleFJdUf",
        "cellView": "form"
      },
      "execution_count": null,
      "outputs": []
    },
    {
      "cell_type": "code",
      "source": [
        "# Take input for the output file name, input file/folder path, and the output path\n",
        "output_file_name = \"\" #@param {type:\"string\"}\n",
        "input_file_or_folder = \"\" #@param {type:\"string\"}\n",
        "output_path = \"\" #@param {type:\"string\"}\n",
        "\n",
        "# Run the 'rar' command using '!' to execute shell commands in Colab\n",
        "!rar a \"{output_path}/{output_file_name}.rar\" \"$input_file_or_folder\"\n"
      ],
      "metadata": {
        "id": "ql5k4xntJimc",
        "cellView": "form"
      },
      "execution_count": null,
      "outputs": []
    },
    {
      "cell_type": "markdown",
      "source": [
        "##__Unzip/Unrar__"
      ],
      "metadata": {
        "id": "O0k-SryWJm1s"
      }
    },
    {
      "cell_type": "code",
      "source": [
        "# @title unzip\n",
        "# Take input for the full path of the input file and the output folder path\n",
        "input_file_path = \"\" #@param {type:\"string\"}\n",
        "output_folder_path = \"\" #@param {type:\"string\"}\n",
        "\n",
        "# Run the 'unzip' command using '!' to execute shell commands in Colab\n",
        "!unzip \"$input_file_path\" -d \"$output_folder_path\"\n"
      ],
      "metadata": {
        "id": "V_wKarHnJtME",
        "cellView": "form"
      },
      "execution_count": null,
      "outputs": []
    },
    {
      "cell_type": "code",
      "source": [
        "# @title unrar\n",
        "# Take input for the full path of the input RAR file and the output folder path\n",
        "input_file_path = \"\" #@param {type:\"string\"}\n",
        "output_folder_path = \"\" #@param {type:\"string\"}\n",
        "\n",
        "# Run the 'unrar' command using '!' to execute shell commands in Colab\n",
        "!unrar x \"$input_file_path\" \"$output_folder_path\"\n"
      ],
      "metadata": {
        "id": "N9g6_Ew9Jxi_",
        "cellView": "form"
      },
      "execution_count": null,
      "outputs": []
    },
    {
      "cell_type": "markdown",
      "source": [
        "##__Mega Download__"
      ],
      "metadata": {
        "id": "xjefREy5KFQZ"
      }
    },
    {
      "cell_type": "code",
      "source": [
        "# @title mega initialization\n",
        "# Download the .deb package\n",
        "!wget https://mega.nz/linux/repo/xUbuntu_23.04/amd64/megacmd-xUbuntu_23.04_amd64.deb\n",
        "\n",
        "# Install the downloaded .deb package with apt\n",
        "!sudo apt install ./megacmd-xUbuntu_23.04_amd64.deb\n"
      ],
      "metadata": {
        "id": "jHIE4j06DIjm",
        "cellView": "form"
      },
      "execution_count": null,
      "outputs": []
    },
    {
      "cell_type": "code",
      "source": [
        "import sys, os, urllib.request\n",
        "import time\n",
        "import subprocess\n",
        "import contextlib\n",
        "from IPython.display import clear_output\n",
        "\n",
        "HOME = os.path.expanduser(\"~\")\n",
        "if not os.path.exists(f\"{HOME}/.ipython/ocr.py\"):\n",
        "    hCode = \"https://raw.githubusercontent.com/biplobsd/\" \\\n",
        "                \"OneClickRun/master/res/ocr.py\"\n",
        "    urllib.request.urlretrieve(hCode, f\"{HOME}/.ipython/ocr.py\")\n",
        "\n",
        "from ocr import (\n",
        "    runSh,\n",
        "    loadingAn,\n",
        ")\n",
        "#@title MEGA public link download\n",
        "URL = \"\" #@param {type:\"string\"}\n",
        "OUTPUT_PATH = \"\" #@param {type:\"string\"}\n",
        "if not OUTPUT_PATH:\n",
        "  os.makedirs(\"downloads\", exist_ok=True)\n",
        "  OUTPUT_PATH = \"downloads\"\n",
        "# MEGAcmd installing\n",
        "if not os.path.exists(\"/usr/bin/mega-cmd\"):\n",
        "    loadingAn()\n",
        "    print(\"Installing MEGA ...\")\n",
        "    runSh('sudo apt-get -y update')\n",
        "    runSh('sudo apt-get -y install libmms0 libc-ares2 libc6 libcrypto++6 libgcc1 libmediainfo0v5 libpcre3 libpcrecpp0v5 libssl1.1 libstdc++6 libzen0v5 zlib1g apt-transport-https')\n",
        "    runSh('sudo curl -sL -o /var/cache/apt/archives/MEGAcmd.deb https://mega.nz/linux/MEGAsync/Debian_9.0/amd64/megacmd-Debian_9.0_amd64.deb', output=True)\n",
        "    runSh('sudo dpkg -i /var/cache/apt/archives/MEGAcmd.deb', output=True)\n",
        "    print(\"MEGA is installed.\")\n",
        "    clear_output()\n",
        "\n",
        "# Unix, Windows and old Macintosh end-of-line\n",
        "newlines = ['\\n', '\\r\\n', '\\r']\n",
        "\n",
        "def unbuffered(proc, stream='stdout'):\n",
        "    stream = getattr(proc, stream)\n",
        "    with contextlib.closing(stream):\n",
        "        while True:\n",
        "            out = []\n",
        "            last = stream.read(1)\n",
        "            # Don't loop forever\n",
        "            if last == '' and proc.poll() is not None:\n",
        "                break\n",
        "            while last not in newlines:\n",
        "                # Don't loop forever\n",
        "                if last == '' and proc.poll() is not None:\n",
        "                    break\n",
        "                out.append(last)\n",
        "                last = stream.read(1)\n",
        "            out = ''.join(out)\n",
        "            yield out\n",
        "\n",
        "\n",
        "def transfare():\n",
        "    import codecs\n",
        "    decoder = codecs.getincrementaldecoder(\"UTF-8\")()\n",
        "    cmd = [\"mega-get\", URL, OUTPUT_PATH]\n",
        "    proc = subprocess.Popen(\n",
        "        cmd,\n",
        "        stdout=subprocess.PIPE,\n",
        "        stderr=subprocess.STDOUT,\n",
        "        # Make all end-of-lines '\\n'\n",
        "        universal_newlines=True,\n",
        "    )\n",
        "    for line in unbuffered(proc):\n",
        "        print(line)\n",
        "\n",
        "\n",
        "\n",
        "transfare()\n",
        "\n"
      ],
      "metadata": {
        "cellView": "form",
        "id": "tnSYd7cVKB8L"
      },
      "execution_count": null,
      "outputs": []
    },
    {
      "cell_type": "markdown",
      "source": [
        "##__Direct Download__\n"
      ],
      "metadata": {
        "id": "F8bxFv5VIVX2"
      }
    },
    {
      "cell_type": "code",
      "source": [
        "URL = \"\" #@param {type:\"string\"}\n",
        "#@markdown <center><h5>Default output path: /content/downloads/</h5></center>\n",
        "#@markdown <center><h5>For Google Drive output path: /content/drive/My Drive/</h5></center>\n",
        "OUTPUT_PATH = \"\" #@param {type:\"string\"}\n",
        "\n",
        "import pathlib\n",
        "import shutil\n",
        "import hashlib\n",
        "import requests\n",
        "from urllib.parse import urlparse\n",
        "from os import path, mkdir\n",
        "if not path.exists(\"/root/.ipython/ocr.py\"):\n",
        "    from subprocess import run\n",
        "    from shlex import split\n",
        "\n",
        "    shellCmd = \"wget -qq https://raw.githubusercontent.com/biplobsd/\" \\\n",
        "                \"OneClickRun/master/res/ocr.py \\\n",
        "                    -O /root/.ipython/ocr.py\"\n",
        "    run(split(shellCmd))\n",
        "from ocr import runSh\n",
        "\n",
        "def youtubedlInstall():\n",
        "  if not path.isfile(\"/usr/local/bin/youtube-dl\"):\n",
        "    cmdC = \"rm -rf /content/sample_data/ && \" \\\n",
        "            \" mkdir -p -m 666 /root/.YouTube-DL/ &&\" \\\n",
        "            \" apt-get install atomicparsley &&\" \\\n",
        "            \" curl -L https://yt-dl.org/downloads/latest/youtube-dl \" \\\n",
        "            \"-o /usr/local/bin/youtube-dl &&\" \\\n",
        "            \" chmod a+rx /usr/local/bin/youtube-dl\"\n",
        "    get_ipython().system_raw(cmdC)\n",
        "\n",
        "def aria2Install():\n",
        "  runSh('apt install -y aria2')\n",
        "\n",
        "def istmd(URL):\n",
        "  link = urlparse(URL)\n",
        "\n",
        "  #YandexDisk\n",
        "  if link.netloc == \"yadi.sk\":\n",
        "    API_ENDPOINT = 'https://cloud-api.yandex.net/v1/disk/public/resources/' \\\n",
        "                    '?public_key={}&path=/{}&offset={}'\n",
        "    dry = False\n",
        "    def md5sum(file_path):\n",
        "        md5 = hashlib.md5()\n",
        "        with open(file_path, 'rb') as f:\n",
        "            for chunk in iter(lambda: f.read(128 * md5.block_size), b''):\n",
        "                md5.update(chunk)\n",
        "        return md5.hexdigest()\n",
        "\n",
        "\n",
        "    def check_and_download_file(target_path, url, size, checksum):\n",
        "        if path.isfile(target_path):\n",
        "            if size == path.getsize(target_path):\n",
        "                if checksum == md5sum(target_path):\n",
        "                    print('URL {}'.format(url))\n",
        "                    print('skipping correct {}'.format(target_path))\n",
        "                    return\n",
        "        if not dry:\n",
        "            print('URL {}'.format(url))\n",
        "            print('downloading {}'.format(target_path))\n",
        "            runSh(f'aria2c -x 16 -s 16 -k 1M -d {OUTPUT_PATH} {url}', output=True)\n",
        "            # r = requests.get(url, stream=True)\n",
        "            # with open(target_path, 'wb') as f:\n",
        "            #     shutil.copyfileobj(r.raw, f)\n",
        "\n",
        "\n",
        "    def download_path(target_path, public_key, source_path, offset=0):\n",
        "        print('getting \"{}\" at offset {}'.format(source_path, offset))\n",
        "        current_path = path.join(target_path, source_path)\n",
        "        pathlib.Path(current_path).mkdir(parents=True, exist_ok=True)\n",
        "        jsn = requests.get(API_ENDPOINT.format(public_key, source_path, offset)).json()\n",
        "        def try_as_file(j):\n",
        "            if 'file' in j:\n",
        "                file_save_path = path.join(current_path, j['name'])\n",
        "                check_and_download_file(file_save_path, j['file'], j['size'], j['md5'])\n",
        "                return True\n",
        "            return False\n",
        "\n",
        "        # first try to treat the actual json as a single file description\n",
        "        if try_as_file(jsn):\n",
        "            return\n",
        "\n",
        "        # otherwise treat it as a directory\n",
        "        emb = jsn['_embedded']\n",
        "        items = emb['items']\n",
        "        for i in items:\n",
        "            # each item can be a file...\n",
        "            if try_as_file(i):\n",
        "                continue\n",
        "            # ... or a directory\n",
        "            else:\n",
        "                subdir_path = path.join(source_path, i['name'])\n",
        "                download_path(target_path, public_key, subdir_path)\n",
        "\n",
        "        # check if current directory has more items\n",
        "        last = offset + emb['limit']\n",
        "        if last < emb['total']:\n",
        "            download_path(target_path, public_key, source_path, last)\n",
        "    download_path(OUTPUT_PATH, URL, '')\n",
        "    return False\n",
        "  return URL\n",
        "\n",
        "if not OUTPUT_PATH:\n",
        "  OUTPUT_PATH = \"/content/downloads/\"\n",
        "\n",
        "if not URL == \"\":\n",
        "  aria2Install()\n",
        "  youtubedlInstall()\n",
        "  try:\n",
        "    mkdir(\"downloads\")\n",
        "  except FileExistsError:\n",
        "    pass\n",
        "  url = istmd(URL)\n",
        "  if url != False:\n",
        "    print('URL {}'.format(URL))\n",
        "    cmdC = f'youtube-dl -o \"{OUTPUT_PATH}/%(title)s\" {URL} ' \\\n",
        "            '--external-downloader aria2c ' \\\n",
        "            '--external-downloader-args \"-x 16 -s 16 -k 1M\"'\n",
        "    runSh(cmdC, output=True)\n",
        "else:\n",
        "  print(\"Please input url\")"
      ],
      "metadata": {
        "id": "_ZNBfuYxIcuW",
        "cellView": "form"
      },
      "execution_count": null,
      "outputs": []
    },
    {
      "cell_type": "markdown",
      "source": [
        "##__Torrent__"
      ],
      "metadata": {
        "id": "7LyFcNZJKhAx"
      }
    },
    {
      "cell_type": "code",
      "source": [
        "#@title Install libtorrent and Initialize Session\n",
        "!apt install python3-libtorrent\n",
        "!python -m pip install --upgrade pip setuptools wheel\n",
        "!python -m pip install lbry-libtorrent\n",
        "import libtorrent as lt\n",
        "\n",
        "ses = lt.session()\n",
        "ses.listen_on(6881, 6891)\n",
        "downloads = []"
      ],
      "metadata": {
        "id": "giRqFZHMKo8W",
        "cellView": "form"
      },
      "execution_count": null,
      "outputs": []
    },
    {
      "cell_type": "code",
      "source": [
        "#@title Add from single magnet link\n",
        "import libtorrent as lt\n",
        "from google.colab import widgets\n",
        "\n",
        "# Set the default save path\n",
        "default_save_path = \"/content/drive/My Drive/Torrent\"\n",
        "\n",
        "# Create a form field for save_path\n",
        "save_path = \"/content/drive/My Drive/Torrent\" #@param {type:\"string\"}\n",
        "\n",
        "# If the save_path is empty, use the default_save_path\n",
        "if not save_path.strip():\n",
        "    save_path = default_save_path\n",
        "\n",
        "# Create session and list to store downloads\n",
        "ses = lt.session()\n",
        "downloads = []\n",
        "\n",
        "# Create a form field for magnet_links\n",
        "magnet_links = \"\" #@param {type:\"string\"}\n",
        "\n",
        "magnet_links_list = magnet_links.strip().split(\"\\n\")\n",
        "\n",
        "for magnet_link in magnet_links_list:\n",
        "    magnet_link = magnet_link.strip()\n",
        "    if not magnet_link:\n",
        "        continue\n",
        "    if magnet_link.lower() == \"exit\":\n",
        "        break\n",
        "    downloads.append(\n",
        "        lt.add_magnet_uri(ses, magnet_link, {\"save_path\": save_path})\n",
        "    )\n"
      ],
      "metadata": {
        "cellView": "form",
        "id": "4BcX66c4Whsy"
      },
      "execution_count": null,
      "outputs": []
    },
    {
      "cell_type": "code",
      "source": [
        "#@title Multiple Magnet Link - run this cell to add more files as many times as you want\n",
        "params = {\"save_path\": \"/content/drive/My Drive/Torrent\"}\n",
        "\n",
        "while True:\n",
        "    magnet_link = input(\"Enter Magnet Link Or Type Exit: \")\n",
        "    if magnet_link.lower() == \"exit\":\n",
        "        break\n",
        "    downloads.append(\n",
        "        lt.add_magnet_uri(ses, magnet_link, params)\n",
        "    )\n"
      ],
      "metadata": {
        "id": "KjP5l5HAK5cs",
        "cellView": "form"
      },
      "execution_count": null,
      "outputs": []
    },
    {
      "cell_type": "code",
      "source": [
        "#@title Add From Torrent File -  run this cell to add more files as many times as you want\n",
        "\n",
        "from google.colab import files\n",
        "\n",
        "source = files.upload()\n",
        "params = {\n",
        "    \"save_path\": \"/content/drive/My Drive/Torrent\",\n",
        "    \"ti\": lt.torrent_info(list(source.keys())[0]),\n",
        "}\n",
        "downloads.append(ses.add_torrent(params))"
      ],
      "metadata": {
        "id": "4sGNfMHnK2I6",
        "cellView": "form"
      },
      "execution_count": null,
      "outputs": []
    },
    {
      "cell_type": "code",
      "source": [
        "# @title start download\n",
        "import time\n",
        "from IPython.display import display\n",
        "import ipywidgets as widgets\n",
        "\n",
        "state_str = [\n",
        "    \"queued\",\n",
        "    \"checking\",\n",
        "    \"downloading metadata\",\n",
        "    \"downloading\",\n",
        "    \"finished\",\n",
        "    \"seeding\",\n",
        "    \"allocating\",\n",
        "    \"checking fastresume\",\n",
        "]\n",
        "\n",
        "layout = widgets.Layout(width=\"auto\")\n",
        "style = {\"description_width\": \"initial\"}\n",
        "download_bars = [\n",
        "    widgets.FloatSlider(\n",
        "        step=0.01, disabled=True, layout=layout, style=style\n",
        "    )\n",
        "    for _ in downloads\n",
        "]\n",
        "display(*download_bars)\n",
        "\n",
        "while downloads:\n",
        "    next_shift = 0\n",
        "    for index, download in enumerate(downloads[:]):\n",
        "        bar = download_bars[index + next_shift]\n",
        "        if not download.is_seed():\n",
        "            s = download.status()\n",
        "\n",
        "            bar.description = \" \".join(\n",
        "                [\n",
        "                    download.name(),\n",
        "                    str(s.download_rate / 1000),\n",
        "                    \"kB/s\",\n",
        "                    state_str[s.state],\n",
        "                ]\n",
        "            )\n",
        "            bar.value = s.progress * 100\n",
        "        else:\n",
        "            next_shift -= 1\n",
        "            ses.remove_torrent(download)\n",
        "            downloads.remove(download)\n",
        "            bar.close() # Seems to be not working in Colab (see https://github.com/googlecolab/colabtools/issues/726#issue-486731758)\n",
        "            download_bars.remove(bar)\n",
        "            print(download.name(), \"complete\")\n",
        "    time.sleep(1)\n"
      ],
      "metadata": {
        "id": "ti3K-KshLHLL",
        "cellView": "form"
      },
      "execution_count": null,
      "outputs": []
    },
    {
      "cell_type": "markdown",
      "source": [
        "##__Youtube Video/Audio/Playlist Download__"
      ],
      "metadata": {
        "id": "_n7avcu9NDSp"
      }
    },
    {
      "cell_type": "code",
      "source": [
        "#@title initialization of yt-dlp\n",
        "!pip install yt-dlp\n",
        "!sudo apt install ffmpeg\n",
        "!git clone https://github.com/aliffarzanzim/Automated-yt-dlp\n",
        "!cd Automated-yt-dlp/Linux"
      ],
      "metadata": {
        "id": "99AT08X8NSOp"
      },
      "execution_count": null,
      "outputs": []
    },
    {
      "cell_type": "code",
      "source": [
        "#@title Playlist Download\n",
        "!bash /content/Automated-yt-dlp/Linux/playlist-dl.sh"
      ],
      "metadata": {
        "cellView": "form",
        "id": "CV_9WyX-OOIi"
      },
      "execution_count": null,
      "outputs": []
    },
    {
      "cell_type": "code",
      "source": [
        "#@title Video/Audio Download\n",
        "!bash single-dl.sh"
      ],
      "metadata": {
        "id": "v2W2mYlePMqF"
      },
      "execution_count": null,
      "outputs": []
    },
    {
      "cell_type": "code",
      "source": [
        "#@title 14.5 GB Folder divider\n",
        "import os\n",
        "import shutil\n",
        "\n",
        "# Define variables\n",
        "folder_index = 1\n",
        "folder_size_limit = 14.5 * 1024 * 1024 * 1024\n",
        "folder_size = 0\n",
        "\n",
        "# Path to the main folder containing your media files\n",
        "main_folder = '/content/drive/MyDrive/path/to/media_folder'\n",
        "\n",
        "# Get the list of files in the main folder\n",
        "files = os.listdir(main_folder)\n",
        "\n",
        "# Sort the files by size to maintain order\n",
        "files.sort(key=lambda x: os.path.getsize(os.path.join(main_folder, x)))\n",
        "\n",
        "# Loop through the files and move them to the appropriate subfolders\n",
        "for file_name in files:\n",
        "    file_path = os.path.join(main_folder, file_name)\n",
        "    if os.path.isfile(file_path):\n",
        "        file_size = os.path.getsize(file_path)\n",
        "        if folder_size + file_size < folder_size_limit:\n",
        "            folder_size += file_size\n",
        "        else:\n",
        "            folder_size = file_size\n",
        "            folder_index += 1\n",
        "\n",
        "        destination_folder = os.path.join(main_folder, f'SubFolder{folder_index}')\n",
        "        os.makedirs(destination_folder, exist_ok=True)\n",
        "        shutil.move(file_path, destination_folder)\n"
      ],
      "metadata": {
        "cellView": "form",
        "id": "7ovNTYdnwEuT"
      },
      "execution_count": null,
      "outputs": []
    },
    {
      "cell_type": "code",
      "source": [
        "#@title Folder divider by Size\n",
        "\n",
        "import os\n",
        "import shutil\n",
        "\n",
        "# Define variables\n",
        "folder_index = 1\n",
        "\n",
        "# Take input for the 'folder_size_limit' (in GB) and convert it to bytes\n",
        "folder_size_limit_gb = 14.5 #@param {type:\"number\"}\n",
        "folder_size_limit = folder_size_limit_gb * 1024 * 1024 * 1024\n",
        "\n",
        "# Take input for the 'main_folder' path\n",
        "main_folder = \"/content/drive/MyDrive/path/to/media_folder\" #@param {type:\"string\"}\n",
        "\n",
        "# Get the list of files in the main folder\n",
        "files = os.listdir(main_folder)\n",
        "\n",
        "# Sort the files by size to maintain order\n",
        "files.sort(key=lambda x: os.path.getsize(os.path.join(main_folder, x)))\n",
        "\n",
        "# Loop through the files and move them to the appropriate subfolders\n",
        "folder_size = 0\n",
        "for file_name in files:\n",
        "    file_path = os.path.join(main_folder, file_name)\n",
        "    if os.path.isfile(file_path):\n",
        "        file_size = os.path.getsize(file_path)\n",
        "        if folder_size + file_size < folder_size_limit:\n",
        "            folder_size += file_size\n",
        "        else:\n",
        "            folder_size = file_size\n",
        "            folder_index += 1\n",
        "\n",
        "        destination_folder = os.path.join(main_folder, f'SubFolder{folder_index}')\n",
        "        os.makedirs(destination_folder, exist_ok=True)\n",
        "        shutil.move(file_path, destination_folder)\n"
      ],
      "metadata": {
        "cellView": "form",
        "id": "98CbSMnSxZJ8"
      },
      "execution_count": null,
      "outputs": []
    },
    {
      "cell_type": "code",
      "source": [
        "#@title youtube playlist information\n",
        "!yt-dlp --flat-playlist --skip-download --get-title \"https://youtube.com/playlist?list=PL-5n5zXNlkm8mt13SgiHtTpXgx0BzH3bT\" | awk '{print NR \". \" $0}'"
      ],
      "metadata": {
        "cellView": "form",
        "id": "sdHXeEQR5-wA"
      },
      "execution_count": null,
      "outputs": []
    }
  ]
}
